{
 "cells": [
  {
   "cell_type": "markdown",
   "metadata": {},
   "source": [
    "# 第四章 随机数与抽样模拟 P54"
   ]
  },
  {
   "cell_type": "markdown",
   "metadata": {},
   "source": [
    "## 4.1 一元随机数的产生"
   ]
  },
  {
   "cell_type": "code",
   "execution_count": null,
   "metadata": {
    "vscode": {
     "languageId": "r"
    }
   },
   "outputs": [],
   "source": [
    "# 4.1.1 均匀分布随机数\n",
    "runif(3,1,3) #生成3个[1,3]的均匀分布随机数\n",
    "runif(5) #默认生成5个[0,1]上的均匀分布的随机数"
   ]
  },
  {
   "cell_type": "code",
   "execution_count": null,
   "metadata": {
    "vscode": {
     "languageId": "r"
    }
   },
   "outputs": [],
   "source": [
    "set.seed(1) #种子取一样，生成的随机数相同\n",
    "runif(5)"
   ]
  },
  {
   "cell_type": "code",
   "execution_count": null,
   "metadata": {
    "vscode": {
     "languageId": "r"
    }
   },
   "outputs": [],
   "source": [
    "Nsim = 10^3\n",
    "x = runif(Nsim)\n",
    "x1 = x[-Nsim] #因为要求自相关系数，去掉最后一个数\n",
    "x2 = x[-1] #去掉第一个数\n",
    "par(mfrow = c(1,3))\n",
    "hist(x,prov=T,col = gray(0.3),main=\"uniform on [0,1]\") #直方图📊\n",
    "curve(dunif(x,0,1),add=T,col=\"red\") #添加均匀分布密度函数线\n",
    "plot(x1,x2,col=\"red\")\n",
    "acf(x) #画自相关系数图\n"
   ]
  },
  {
   "cell_type": "code",
   "execution_count": null,
   "metadata": {
    "vscode": {
     "languageId": "r"
    }
   },
   "outputs": [],
   "source": [
    "#4.1.2 正态分布随机数\n",
    "rnorm(5,10,5) #产生五个均值为10，标准差为5的正态分布随机数\n",
    "rnorm(5) #默认五个生成标准正态分布随机数"
   ]
  },
  {
   "cell_type": "code",
   "execution_count": null,
   "metadata": {
    "vscode": {
     "languageId": "r"
    }
   },
   "outputs": [],
   "source": [
    "x = rnorm(100)\n",
    "hist(x,prob=T,main=\"normal mu=0,sigma=1\") #作直方图📊\n",
    "curve(dnorm(x),add=T) #在直方图📊上添加标准正态分布密度函数线"
   ]
  },
  {
   "cell_type": "code",
   "execution_count": null,
   "metadata": {
    "vscode": {
     "languageId": "r"
    }
   },
   "outputs": [],
   "source": [
    "# 4.1.3 指数分布随机数\n",
    "x = rexp(100,1/10) #生成100个均值为10的指数分布随机数\n",
    "hist(x,prob=T,col=gray(0.9),main=\"An exponentially distributed random number with a mean of 10\")\n",
    "curve(dexp(x,1/10),add=T)"
   ]
  },
  {
   "cell_type": "code",
   "execution_count": null,
   "metadata": {
    "vscode": {
     "languageId": "r"
    }
   },
   "outputs": [],
   "source": [
    "Nsim = 10^4\n",
    "U = runif(Nsim)\n",
    "X = -log(U)\n",
    "Y = rexp(Nsim)\n",
    "par(mfrow = c(1,2))\n",
    "hist(X , freq = F , main = \"Exp from Uniform\")\n",
    "curve(dexp(x,1),add=T,col=\"red\")\n",
    "hist(Y,freq=F,main=\"Exp from R\")\n",
    "curve(dexp(x,1),add=T,col=\"red\")"
   ]
  },
  {
   "cell_type": "code",
   "execution_count": null,
   "metadata": {
    "vscode": {
     "languageId": "r"
    }
   },
   "outputs": [],
   "source": [
    "# 4.1.4 离散分布随机数的生成\n",
    "size = 1;p = 0.5\n",
    "rbinom(10,size,p)\n",
    "\n",
    "size = 10; p = 0.5\n",
    "rbinom(5,size,p) #生成5个服从B(10,0.5)的二项分布随机数"
   ]
  },
  {
   "cell_type": "code",
   "execution_count": null,
   "metadata": {
    "vscode": {
     "languageId": "r"
    }
   },
   "outputs": [],
   "source": [
    "par(mfrow=c(1,3))\n",
    "p = 0.25\n",
    "for( n in c(10,20,50))\n",
    "{ x = rbinom(100,n,p)\n",
    "    hist(x,prob=T,main=paste(\"n =\" , n))\n",
    "    xvals=0:n\n",
    "    points(xvals,dbinom(xvals,n,p),type=\"h\",lwd=3)\n",
    "}\n",
    "par(mfrow=c(1,1))"
   ]
  },
  {
   "cell_type": "markdown",
   "metadata": {},
   "source": [
    "## 4.2 多元随机数的生成"
   ]
  },
  {
   "cell_type": "code",
   "execution_count": null,
   "metadata": {
    "vscode": {
     "languageId": "r"
    }
   },
   "outputs": [],
   "source": [
    "# 4.2.1 多元正态分布随机数\n",
    "library(MASS) #载入MASS包\n",
    "Sigma <- matrix(c(10,3,3,2),2,2)\n",
    "Sigma\n",
    "\n",
    "x = mvrnorm(n = 1000 , rep(0,2) , Sigma)\n",
    "head(x)\n",
    "\n",
    "var(x)"
   ]
  },
  {
   "cell_type": "code",
   "execution_count": null,
   "metadata": {
    "vscode": {
     "languageId": "r"
    }
   },
   "outputs": [],
   "source": [
    "install.packages(\"MASS\")\n",
    "library(MASS)\n",
    "\n",
    "sigma <- matrix(c(10,3,3,2), ncol = 2)\n",
    "x <- mvrnorm(n = 500, mu = c(1,2), Sigma = sigma)\n",
    "head(x)\n",
    "\n",
    "colMeans(x)\n",
    "\n",
    "var(x)\n",
    "\n",
    "plot(x)\n",
    "\n",
    "#Mvnorm 包并不存在。可能是想使用 MASS 包中的 mvrnorm 函数。\n",
    "#在 MASS 包中，多元正态分布的随机数生成函数是 mvrnorm，而不是 rmvnorm。\n"
   ]
  },
  {
   "cell_type": "code",
   "execution_count": null,
   "metadata": {
    "vscode": {
     "languageId": "r"
    }
   },
   "outputs": [],
   "source": [
    "# 安装并加载mvtnorm包\n",
    "install.packages(\"mvtnorm\")\n",
    "library(mvtnorm)\n",
    "\n",
    "# 4.2.2 多元正态分布密度函数/分位数与累积概率\n",
    "(mean <- rep(0,5)) #均值向量\n",
    "(lower <- rep(-1,5)) #下限\n",
    "(upper <- rep(3,5)) #上限\n",
    "(corr <- diag(5)) #相关系数矩阵\n",
    "\n",
    "(corr[lower.tri(corr)] <- 0.5) #相关系数矩阵下三角用0.5赋值\n",
    "(corr[upper.tri(corr)] <- 0.5) #相关系数矩阵上三角用0.5赋值\n",
    "corr\n",
    "\n",
    "(prob <- pmvnorm(lower = lower, upper = upper, mean = mean, sigma = corr))\n",
    "\n",
    "# 如果想查看计算的误差和方法，可以使用以下代码：\n",
    "attr(prob, \"error\")\n",
    "attr(prob, \"msg\")\n"
   ]
  }
 ],
 "metadata": {
  "kernelspec": {
   "display_name": "R",
   "language": "R",
   "name": "ir"
  },
  "language_info": {
   "codemirror_mode": "r",
   "file_extension": ".r",
   "mimetype": "text/x-r-source",
   "name": "R",
   "pygments_lexer": "r",
   "version": "4.3.1"
  }
 },
 "nbformat": 4,
 "nbformat_minor": 2
}
