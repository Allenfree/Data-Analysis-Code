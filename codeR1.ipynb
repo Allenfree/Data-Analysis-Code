{
 "cells": [
  {
   "cell_type": "markdown",
   "metadata": {},
   "source": [
    "green book 14页\n",
    "2.1 数据类型"
   ]
  },
  {
   "cell_type": "code",
   "execution_count": null,
   "metadata": {
    "vscode": {
     "languageId": "r"
    }
   },
   "outputs": [],
   "source": [
    "z <- c(1:5,NA) #生成向量z\n",
    "z #返回z向量的结果\n",
    "is.na(z) #识别z向量的值是否有缺失值"
   ]
  },
  {
   "cell_type": "markdown",
   "metadata": {},
   "source": [
    "2.2 数据对象"
   ]
  },
  {
   "cell_type": "code",
   "execution_count": null,
   "metadata": {
    "vscode": {
     "languageId": "r"
    }
   },
   "outputs": [],
   "source": [
    "x <- seq(0,1,by=0.2) #seq()生成序列的函数，详见2.2.1节\n",
    "y <- seq(0,1,by=0.2)\n",
    "y[4]\n",
    "x[3]\n",
    "1-x[3]\n",
    "y[4] > 1-x[3]"
   ]
  },
  {
   "cell_type": "code",
   "execution_count": null,
   "metadata": {
    "vscode": {
     "languageId": "r"
    }
   },
   "outputs": [],
   "source": [
    "seq(0,1,0.1)\n",
    "\n",
    "seq(0,1,0.1) == c(0,0.1,0.2,0.3,0.4,0.5,0.6,0.7,0.8,0.9,1)\n",
    "\n",
    "0.3-0.7+0.4 == 0\n",
    "\n",
    "sqrt(2)^2 == 2"
   ]
  },
  {
   "cell_type": "markdown",
   "metadata": {},
   "source": [
    "2.2.1 向量\n",
    "1.向量赋值"
   ]
  },
  {
   "cell_type": "code",
   "execution_count": null,
   "metadata": {
    "vscode": {
     "languageId": "r"
    }
   },
   "outputs": [],
   "source": [
    "x <- c(1,3,5,7,9) #用c（）构建向量"
   ]
  },
  {
   "cell_type": "code",
   "execution_count": null,
   "metadata": {
    "vscode": {
     "languageId": "r"
    }
   },
   "outputs": [],
   "source": [
    "c(1,3,5,7,9) -> y #将c（）生成的数值向量赋给y\n",
    "y"
   ]
  },
  {
   "cell_type": "code",
   "execution_count": null,
   "metadata": {
    "vscode": {
     "languageId": "r"
    }
   },
   "outputs": [],
   "source": [
    "z <- c(\"Male\",\"Female\",\"Male\",\"Male\") #将c（）生成的字符向量赋给z\n",
    "z"
   ]
  },
  {
   "cell_type": "code",
   "execution_count": null,
   "metadata": {
    "vscode": {
     "languageId": "r"
    }
   },
   "outputs": [],
   "source": [
    "u=c(TRUE,FALSE,TRUE,FALSE,FALSE) #将c（）生成的逻辑向量赋给u\n",
    "u"
   ]
  },
  {
   "cell_type": "code",
   "execution_count": null,
   "metadata": {
    "vscode": {
     "languageId": "r"
    }
   },
   "outputs": [],
   "source": [
    "v <- paste(\"x\",1:5,seq=\"\")\n",
    "v"
   ]
  },
  {
   "cell_type": "code",
   "execution_count": null,
   "metadata": {
    "vscode": {
     "languageId": "r"
    }
   },
   "outputs": [],
   "source": [
    "paste(\"Today is\",date())"
   ]
  },
  {
   "cell_type": "code",
   "execution_count": null,
   "metadata": {
    "vscode": {
     "languageId": "r"
    }
   },
   "outputs": [],
   "source": [
    "assign(\"w\",c(1,3,5,7,9))\n",
    "w"
   ]
  },
  {
   "cell_type": "markdown",
   "metadata": {},
   "source": [
    "2. 向量运算"
   ]
  },
  {
   "cell_type": "code",
   "execution_count": null,
   "metadata": {
    "vscode": {
     "languageId": "r"
    }
   },
   "outputs": [],
   "source": [
    "x <- c(1,3,5,7,9)\n",
    "c(1,3,5,7,9) -> y\n",
    "x * y \n",
    "x / y\n",
    "x^2\n",
    "y^x"
   ]
  },
  {
   "cell_type": "code",
   "execution_count": null,
   "metadata": {
    "vscode": {
     "languageId": "r"
    }
   },
   "outputs": [],
   "source": [
    "c(1,3,5)+c(2,4,6,8,10)"
   ]
  },
  {
   "cell_type": "markdown",
   "metadata": {},
   "source": [
    "3. 生成有规则序列"
   ]
  },
  {
   "cell_type": "code",
   "execution_count": null,
   "metadata": {
    "vscode": {
     "languageId": "r"
    }
   },
   "outputs": [],
   "source": [
    "(t <- 1:10)\n",
    "(r <- 5:1)\n",
    "2 * 1:5"
   ]
  },
  {
   "cell_type": "code",
   "execution_count": null,
   "metadata": {
    "vscode": {
     "languageId": "r"
    }
   },
   "outputs": [],
   "source": [
    "seq(1,10,2) #生成从1开始，10结束，步长为2的序列\n",
    "seq(1,10) #默认步长为1\n",
    "seq(10,1,-1) #步长为-1\n",
    "seq(1,by=2,length=10)"
   ]
  },
  {
   "cell_type": "code",
   "execution_count": null,
   "metadata": {
    "vscode": {
     "languageId": "r"
    }
   },
   "outputs": [],
   "source": [
    "rep(c(1,3),4)\n",
    "rep(c(1,3),each=4)\n",
    "rep(1:3,rep(2,3))"
   ]
  },
  {
   "cell_type": "markdown",
   "metadata": {},
   "source": [
    "4. 向量的常见函数   P18"
   ]
  },
  {
   "cell_type": "code",
   "execution_count": null,
   "metadata": {
    "vscode": {
     "languageId": "r"
    }
   },
   "outputs": [],
   "source": [
    "x <- c(1,3,5,7,9)\n",
    "length(x)\n",
    "mode(x) #返回数据类型\n",
    "min(x)\n",
    "range(x)\n",
    "which.min(x)"
   ]
  },
  {
   "cell_type": "code",
   "execution_count": null,
   "metadata": {
    "vscode": {
     "languageId": "r"
    }
   },
   "outputs": [],
   "source": [
    "t <- 1:10\n",
    "mean(t)\n",
    "sd(t)"
   ]
  },
  {
   "cell_type": "code",
   "execution_count": null,
   "metadata": {
    "vscode": {
     "languageId": "r"
    }
   },
   "outputs": [],
   "source": [
    "y <- c(2,6,7,3,5)\n",
    "sort(y)\n",
    "rev(y)\n",
    "rank(y)\n",
    "prod(y)"
   ]
  },
  {
   "cell_type": "code",
   "execution_count": null,
   "metadata": {
    "vscode": {
     "languageId": "r"
    }
   },
   "outputs": [],
   "source": [
    "y <- c(2,6,7,3,5)\n",
    "append(y,10:15,after=3)"
   ]
  },
  {
   "cell_type": "markdown",
   "metadata": {},
   "source": [
    "5. 向量索引"
   ]
  },
  {
   "cell_type": "code",
   "execution_count": null,
   "metadata": {
    "vscode": {
     "languageId": "r"
    }
   },
   "outputs": [],
   "source": [
    "x <- c(1,3,5)\n",
    "x[2] #返回x向量的第二个元素\n",
    "(c(1,2,3)+4)[2] #先进行向量运算c(1,2,3)+4，再返回该向量的第二个元素\n",
    "x[2] <- 10 #将10赋给x向量的第二个元素，即替换掉原来的值\n",
    "x\n",
    "x[c(1,3)] <- c(9,11) #将9和11赋值给x向量的第一和第三个元素\n",
    "x"
   ]
  },
  {
   "cell_type": "code",
   "execution_count": null,
   "metadata": {
    "vscode": {
     "languageId": "r"
    }
   },
   "outputs": [],
   "source": [
    "x <- c(1,3,5)\n",
    "x < 4 #返回逻辑结果，即x向量的元素是否小于4\n",
    "x[x<4] #返回x向量里小雨小于4的元素\n",
    "z <- c(-1,1:3,NA)\n",
    "z\n",
    "\n",
    "z[is.na(z)] <- 0 #将0赋值给z向量里的NA值\n",
    "z\n",
    "\n",
    "z <- c(-1,1:3,NA)\n",
    "y <- z[!is.na(z)] #将z里的非缺失值赋值给y\n",
    "y"
   ]
  },
  {
   "cell_type": "code",
   "execution_count": null,
   "metadata": {
    "vscode": {
     "languageId": "r"
    }
   },
   "outputs": [],
   "source": [
    "x <- c(-3,-2,-1,0,5,7)\n",
    "y <- numeric(length(x)) #生成与x向量长度相同的数值型向量\n",
    "y\n",
    "\n",
    "y[x<0] <- 1-x[x<0] #求出x中小于0的元素对应位置，y对应位置的值用1-x[x<0]替代\n",
    "y\n",
    "\n",
    "y[x>=0] <- 1-x[x>=0] #求出x中大于等于0的元素对应位置，y对应位置的元素用1-x[x<0]\n",
    "y"
   ]
  },
  {
   "cell_type": "code",
   "execution_count": null,
   "metadata": {
    "vscode": {
     "languageId": "r"
    }
   },
   "outputs": [],
   "source": [
    "x <- 1:10\n",
    "x[-(1:5)] #删除x向量中第1到第5个元素"
   ]
  },
  {
   "cell_type": "markdown",
   "metadata": {},
   "source": [
    "2.2.2 矩阵"
   ]
  },
  {
   "cell_type": "code",
   "execution_count": null,
   "metadata": {
    "vscode": {
     "languageId": "r"
    }
   },
   "outputs": [],
   "source": [
    "matrix(1:12,nrow=4,ncol=3) #默认按列填充"
   ]
  },
  {
   "cell_type": "code",
   "execution_count": null,
   "metadata": {
    "vscode": {
     "languageId": "r"
    }
   },
   "outputs": [],
   "source": [
    "matrix(1:12,nrow=4,ncol=3,byrow=T) #按行填充"
   ]
  },
  {
   "cell_type": "code",
   "execution_count": null,
   "metadata": {
    "vscode": {
     "languageId": "r"
    }
   },
   "outputs": [],
   "source": [
    "(A <- matrix(1:12,nrow=3,ncol=4))\n",
    "\n",
    "t(A)"
   ]
  },
  {
   "cell_type": "code",
   "execution_count": null,
   "metadata": {
    "vscode": {
     "languageId": "r"
    }
   },
   "outputs": [],
   "source": [
    "A <- B <- matrix(1:12,nrow=3) #将生成的矩阵赋给B，同时又赋给A\n",
    "A+B"
   ]
  },
  {
   "cell_type": "code",
   "execution_count": null,
   "metadata": {
    "vscode": {
     "languageId": "r"
    }
   },
   "outputs": [],
   "source": [
    "3*A"
   ]
  },
  {
   "cell_type": "code",
   "execution_count": null,
   "metadata": {
    "vscode": {
     "languageId": "r"
    }
   },
   "outputs": [],
   "source": [
    "B <- t(A)\n",
    "A%*%B"
   ]
  },
  {
   "cell_type": "code",
   "execution_count": null,
   "metadata": {
    "vscode": {
     "languageId": "r"
    }
   },
   "outputs": [],
   "source": [
    "A <- matrix(1:16,nrow=4)\n",
    "diag(A)\n",
    "\n",
    "diag(diag(A))\n",
    "\n",
    "diag(3)"
   ]
  },
  {
   "cell_type": "code",
   "execution_count": null,
   "metadata": {
    "vscode": {
     "languageId": "r"
    }
   },
   "outputs": [],
   "source": [
    "(A <- matrix(rnorm(16),4,4)) #rnorm()是生成16个标准正态分布随机数\n",
    "\n",
    "solve(A)"
   ]
  },
  {
   "cell_type": "code",
   "execution_count": null,
   "metadata": {
    "vscode": {
     "languageId": "r"
    }
   },
   "outputs": [],
   "source": [
    "(A <- diag(4)+1)\n",
    "\n",
    "(A.eigen <- eigen(A,symmetric=T))"
   ]
  },
  {
   "cell_type": "code",
   "execution_count": null,
   "metadata": {
    "vscode": {
     "languageId": "r"
    }
   },
   "outputs": [],
   "source": [
    "chol(A)"
   ]
  },
  {
   "cell_type": "code",
   "execution_count": null,
   "metadata": {
    "vscode": {
     "languageId": "r"
    }
   },
   "outputs": [],
   "source": [
    "prod(diag(chol(A))^2) #求出A矩阵的对角元素，然后求平方，再求连乘积\n",
    "\n",
    "det(A) #求A矩阵行列式\n",
    "\n",
    "chol2inv(chol(A)) #求Choleskey分解后的逆"
   ]
  },
  {
   "cell_type": "code",
   "execution_count": null,
   "metadata": {
    "vscode": {
     "languageId": "r"
    }
   },
   "outputs": [],
   "source": [
    "(A <- matrix(1:18,3,6))\n",
    "\n",
    "(A.svd <- svd(A)) #求矩阵A的svd分解，并将结果赋值给A.svd"
   ]
  },
  {
   "cell_type": "code",
   "execution_count": null,
   "metadata": {
    "vscode": {
     "languageId": "r"
    }
   },
   "outputs": [],
   "source": [
    "B <- matrix(1:16,4,4)\n",
    "qr(B)"
   ]
  },
  {
   "cell_type": "code",
   "execution_count": null,
   "metadata": {
    "vscode": {
     "languageId": "r"
    }
   },
   "outputs": [],
   "source": [
    "qr.R(qr(B)) #提取R矩阵"
   ]
  },
  {
   "cell_type": "code",
   "execution_count": null,
   "metadata": {
    "vscode": {
     "languageId": "r"
    }
   },
   "outputs": [],
   "source": [
    "qr.Q(qr(B)) #提取Q矩阵"
   ]
  },
  {
   "cell_type": "code",
   "execution_count": null,
   "metadata": {
    "vscode": {
     "languageId": "r"
    }
   },
   "outputs": [],
   "source": [
    "(A <- matrix(1:4,2,2))\n",
    "\n",
    "(B <- matrix(rep(1,4),2,2))\n",
    "\n",
    "kronecker(A,B)"
   ]
  },
  {
   "cell_type": "code",
   "execution_count": null,
   "metadata": {
    "vscode": {
     "languageId": "r"
    }
   },
   "outputs": [],
   "source": [
    "(A <- matrix(1:12,3))\n",
    "\n",
    "dim(A)\n",
    "\n",
    "nrow(A)\n",
    "\n",
    "rowSums(A)\n",
    "\n",
    "rowMeans(A)"
   ]
  },
  {
   "cell_type": "markdown",
   "metadata": {},
   "source": [
    "green book 33页\n",
    "2.2.5 列表"
   ]
  },
  {
   "cell_type": "code",
   "execution_count": null,
   "metadata": {
    "vscode": {
     "languageId": "r"
    }
   },
   "outputs": [],
   "source": [
    "x <- c(1,1,2,2,3,3,3)\n",
    "y <- c(\"girl\",\"man\",\"man\",\"girl\",\"girl\",\"girl\",\"man\")\n",
    "z <- c(80,85,92,76,61,95,83)\n",
    "(LST <- list(class=x,sex=y,score=z))"
   ]
  },
  {
   "cell_type": "code",
   "execution_count": null,
   "metadata": {
    "vscode": {
     "languageId": "r"
    }
   },
   "outputs": [],
   "source": [
    "(LST[[3]])  #返回score值\n",
    "LST[[2]] [1:3] #返回列表第二个成分的第1到第3元素"
   ]
  },
  {
   "cell_type": "code",
   "execution_count": null,
   "metadata": {
    "vscode": {
     "languageId": "r"
    }
   },
   "outputs": [],
   "source": [
    "LST$score #返回score值\n",
    "LST$sc #返回score值"
   ]
  },
  {
   "cell_type": "markdown",
   "metadata": {},
   "source": [
    "2.2.6 数据框"
   ]
  },
  {
   "cell_type": "code",
   "execution_count": null,
   "metadata": {
    "vscode": {
     "languageId": "r"
    }
   },
   "outputs": [],
   "source": [
    "(student <- data.frame(x,y,z))\n",
    "\n",
    "(student <- data.frame(class=x,sex=y,score=z))\n",
    "\n",
    "student[,\"score\"] #返回y变量的所有样本观察数\n",
    "\n",
    "stduent[,3]"
   ]
  }
 ],
 "metadata": {
  "kernelspec": {
   "display_name": "R",
   "language": "R",
   "name": "ir"
  },
  "language_info": {
   "codemirror_mode": "r",
   "file_extension": ".r",
   "mimetype": "text/x-r-source",
   "name": "R",
   "pygments_lexer": "r",
   "version": "4.3.1"
  }
 },
 "nbformat": 4,
 "nbformat_minor": 2
}
