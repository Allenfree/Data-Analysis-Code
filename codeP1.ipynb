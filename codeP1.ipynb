{
 "cells": [
  {
   "cell_type": "markdown",
   "metadata": {},
   "source": [
    "输入所需的库"
   ]
  },
  {
   "cell_type": "code",
   "execution_count": null,
   "metadata": {},
   "outputs": [],
   "source": [
    "import numpy as np\n",
    "import pandas as pd"
   ]
  },
  {
   "cell_type": "markdown",
   "metadata": {},
   "source": [
    "green book 14页\n",
    "2.1 数据类型"
   ]
  },
  {
   "cell_type": "code",
   "execution_count": null,
   "metadata": {},
   "outputs": [],
   "source": [
    "z = np.array(list(range(1, 6)) + [None])\n",
    "print(z)\n",
    "print(pd.isna(z))"
   ]
  },
  {
   "cell_type": "markdown",
   "metadata": {},
   "source": [
    "2.2 数据对象"
   ]
  },
  {
   "cell_type": "code",
   "execution_count": null,
   "metadata": {},
   "outputs": [],
   "source": [
    "x = np.arange(0, 1.1, 0.2)\n",
    "y = np.arange(0, 1.1, 0.2)\n",
    "print(y[3])\n",
    "print(x[2])\n",
    "print(1-x[2])\n",
    "print(y[3] > 1-x[2])\n",
    "print(np.arange(0, 1.1, 0.1))\n",
    "print(np.array_equal(np.arange(0, 1.1, 0.1), np.array([0, 0.1, 0.2, 0.3, 0.4, 0.5, 0.6, 0.7, 0.8, 0.9, 1])))"
   ]
  },
  {
   "cell_type": "markdown",
   "metadata": {},
   "source": [
    "2.2.1 向量"
   ]
  },
  {
   "cell_type": "code",
   "execution_count": null,
   "metadata": {},
   "outputs": [],
   "source": [
    "x = np.array([1, 3, 5, 7, 9])\n",
    "y = np.array([1, 3, 5, 7, 9])\n",
    "print(x*y)\n",
    "print(x**2)\n",
    "print(y**x)\n",
    "print(np.array([1,3,5])+np.array([2,4,6]))\n",
    "t = np.arange(1, 11)\n",
    "print(np.mean(t))\n",
    "print(np.std(t))\n",
    "y = np.array([2,6,7,3,5])\n",
    "print(np.sort(y))\n",
    "print(y[::-1])\n",
    "print(np.argsort(y)+1)  # Rank function equivalent\n",
    "print(np.prod(y))"
   ]
  },
  {
   "cell_type": "markdown",
   "metadata": {},
   "source": [
    "2.2.2 矩阵"
   ]
  },
  {
   "cell_type": "code",
   "execution_count": null,
   "metadata": {},
   "outputs": [],
   "source": [
    "A = np.array(range(1, 13)).reshape(3, 4)\n",
    "B = np.array(range(1, 13)).reshape(3, 4)\n",
    "print(A.T)  # Transpose\n",
    "print(A + B)\n",
    "print(3 * A)\n",
    "print(np.dot(A, B.T))"
   ]
  },
  {
   "cell_type": "markdown",
   "metadata": {},
   "source": [
    "2.2.5 列表"
   ]
  },
  {
   "cell_type": "code",
   "execution_count": null,
   "metadata": {},
   "outputs": [],
   "source": [
    "x = np.array([1, 1, 2, 2, 3, 3, 3])\n",
    "y = np.array([\"girl\", \"man\", \"man\", \"girl\", \"girl\", \"girl\", \"man\"])\n",
    "z = np.array([80, 85, 92, 76, 61, 95, 83])\n",
    "LST = {\"class\": x, \"sex\": y, \"score\": z}\n",
    "print(LST[\"score\"])\n",
    "print(LST[\"sex\"][:3])"
   ]
  },
  {
   "cell_type": "markdown",
   "metadata": {},
   "source": [
    "2.2.6 数据框 (使用pandas的DataFrame)"
   ]
  },
  {
   "cell_type": "code",
   "execution_count": null,
   "metadata": {},
   "outputs": [],
   "source": [
    "student = pd.DataFrame({\"class\": x, \"sex\": y, \"score\": z})\n",
    "print(student)"
   ]
  }
 ],
 "metadata": {
  "kernelspec": {
   "display_name": "myenv",
   "language": "python",
   "name": "python3"
  },
  "language_info": {
   "codemirror_mode": {
    "name": "ipython",
    "version": 3
   },
   "file_extension": ".py",
   "mimetype": "text/x-python",
   "name": "python",
   "nbconvert_exporter": "python",
   "pygments_lexer": "ipython3",
   "version": "3.12.0"
  }
 },
 "nbformat": 4,
 "nbformat_minor": 2
}
